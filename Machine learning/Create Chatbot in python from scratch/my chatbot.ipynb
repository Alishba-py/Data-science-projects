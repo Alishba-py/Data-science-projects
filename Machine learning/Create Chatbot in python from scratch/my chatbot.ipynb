{
 "cells": [
  {
   "cell_type": "markdown",
   "id": "629a2a65",
   "metadata": {},
   "source": [
    "# My chatGPT\n",
    "# Nlp Project\n",
    "# Simplt Chatbot"
   ]
  },
  {
   "cell_type": "code",
   "execution_count": 1,
   "id": "7039c5c9",
   "metadata": {},
   "outputs": [],
   "source": [
    "import numpy as np\n",
    "import nltk\n",
    "import random\n",
    "\n",
    "\n",
    "f = open(r'chatbot.txt')\n",
    "text = f.read()"
   ]
  },
  {
   "cell_type": "code",
   "execution_count": 2,
   "id": "bbf84f19",
   "metadata": {},
   "outputs": [
    {
     "data": {
      "text/plain": [
       "'ata science is an interdisciplinary academic field[1] that uses statistics, scientific computing, s'"
      ]
     },
     "execution_count": 2,
     "metadata": {},
     "output_type": "execute_result"
    }
   ],
   "source": [
    "text[1:100]"
   ]
  },
  {
   "cell_type": "code",
   "execution_count": 3,
   "id": "9b6959a6",
   "metadata": {},
   "outputs": [],
   "source": [
    "text = text.lower()\n",
    "word_token = nltk.word_tokenize(text)\n",
    "sent_token = nltk.sent_tokenize(text)"
   ]
  },
  {
   "cell_type": "code",
   "execution_count": 4,
   "id": "4e7ee788",
   "metadata": {},
   "outputs": [
    {
     "data": {
      "text/plain": [
       "['science',\n",
       " 'is',\n",
       " 'an',\n",
       " 'interdisciplinary',\n",
       " 'academic',\n",
       " 'field',\n",
       " '[',\n",
       " '1',\n",
       " ']']"
      ]
     },
     "execution_count": 4,
     "metadata": {},
     "output_type": "execute_result"
    }
   ],
   "source": [
    "word_token[1:10]"
   ]
  },
  {
   "cell_type": "code",
   "execution_count": 5,
   "id": "183f6ba9",
   "metadata": {},
   "outputs": [
    {
     "data": {
      "text/plain": [
       "['[2]\\n\\ndata science also integrates domain knowledge from the underlying application domain (e.g., natural sciences, information technology, and medicine).',\n",
       " '[3] data science is multifaceted and can be described as a science, a research paradigm, a research method, a discipline, a workflow, and a profession.',\n",
       " '[4]\\n\\ndata science is \"a concept to unify statistics, data analysis, informatics, and their related methods\" to \"understand and analyze actual phenomena\" with data.',\n",
       " '[5] it uses techniques and theories drawn from many fields within the context of mathematics, statistics, computer science, information science, and domain knowledge.',\n",
       " '[6] however, data science is different from computer science and information science.',\n",
       " 'turing award winner jim gray imagined data science as a \"fourth paradigm\" of science (empirical, theoretical, computational, and now data-driven) and asserted that \"everything about science is changing because of the impact of information technology\" and the data deluge.',\n",
       " '[7][8]\\n\\na data scientist is a professional who creates programming code and combines it with statistical knowledge to create insights from data.',\n",
       " '[9]\\n\\nfoundations\\ndata science is an interdisciplinary field[10] focused on extracting knowledge from typically large data sets and applying the knowledge and insights from that data to solve problems in a wide range of application domains.',\n",
       " 'the field encompasses preparing data for analysis, formulating data science problems, analyzing data, developing data-driven solutions, and presenting findings to inform high-level decisions in a broad range of application domains.',\n",
       " 'as such, it incorporates skills from computer science, statistics, information science, mathematics, data visualization, information visualization, data sonification, data integration, graphic design, complex systems, communication and business.',\n",
       " '[11][12] statistician nathan yau, drawing on ben fry, also links data science to human–computer interaction: users should be able to intuitively control and explore data.',\n",
       " '[13][14] in 2015, the american statistical association identified database management, statistics and machine learning, and distributed and parallel systems as the three emerging foundational professional communities.',\n",
       " '[15]\\n\\nrelationship to statistics\\nmany statisticians, including nate silver, have argued that data science is not a new field, but rather another name for statistics.',\n",
       " '[16] others argue that data science is distinct from statistics because it focuses on problems and techniques unique to digital data.',\n",
       " '[17] vasant dhar writes that statistics emphasizes quantitative data and description.',\n",
       " 'in contrast, data science deals with quantitative and qualitative data (e.g., from images, text, sensors, transactions, customer information, etc.)',\n",
       " 'and emphasizes prediction and action.',\n",
       " '[18] andrew gelman of columbia university has described statistics as a non-essential part of data science.',\n",
       " '[19]\\n\\nstanford professor david donoho writes that data science is not distinguished from statistics by the size of datasets or use of computing and that many graduate programs misleadingly advertise their analytics and statistics training as the essence of a data-science program.',\n",
       " 'he describes data science as an applied field growing out of traditional statistics.',\n",
       " '[20]\\n\\netymology\\nearly usage\\nin 1962, john tukey described a field he called \"data analysis\", which resembles modern data science.',\n",
       " '[20] in 1985, in a lecture given to the chinese academy of sciences in beijing, c. f. jeff wu used the term \"data science\" for the first time as an alternative name for statistics.',\n",
       " '[21] later, attendees at a 1992 statistics symposium at the university of montpellier  ii acknowledged the emergence of a new discipline focused on data of various origins and forms, combining established concepts and principles of statistics and data analysis with computing.',\n",
       " '[22][23]\\n\\nthe term \"data science\" has been traced back to 1974, when peter naur proposed it as an alternative name to computer science.',\n",
       " '[6] in 1996, the international federation of classification societies became the first conference to specifically feature data science as a topic.',\n",
       " '[6] however, the definition was still in flux.',\n",
       " 'after the 1985 lecture at the chinese academy of sciences in beijing, in 1997 c. f. jeff wu again suggested that statistics should be renamed data science.',\n",
       " 'he reasoned that a new name would help statistics shed inaccurate stereotypes, such as being synonymous with accounting or limited to describing data.',\n",
       " '[24] in 1998, hayashi chikio argued for data science as a new, interdisciplinary concept, with three aspects: data design, collection, and analysis.',\n",
       " '[23]\\n\\nduring the 1990s, popular terms for the process of finding patterns in datasets (which were increasingly large) included \"knowledge discovery\" and \"data mining\".',\n",
       " '[6][25]\\n\\nmodern usage\\nin 2012, technologists thomas h. davenport and dj patil declared \"data scientist: the sexiest job of the 21st century\",[26] a catchphrase that was picked up even by major-city newspapers like the new york times[27] and the boston globe.',\n",
       " '[28] a decade later, they reaffirmed it, stating that \"the job is more in demand than ever with employers\".',\n",
       " '[29]\\n\\nthe modern conception of data science as an independent discipline is sometimes attributed to william s.',\n",
       " 'cleveland.',\n",
       " '[30] in a 2001 paper, he advocated an expansion of statistics beyond theory into technical areas; because this would significantly change the field, it warranted a new name.',\n",
       " '[25] \"data science\" became more widely used in the next few years: in 2002, the committee on data for science and technology launched the data science journal.',\n",
       " 'in 2003, columbia university launched the journal of data science.',\n",
       " \"[25] in 2014, the american statistical association's section on statistical learning and data mining changed its name to the section on statistical learning and data science, reflecting the ascendant popularity of data science.\",\n",
       " '[31]\\n\\nthe professional title of \"data scientist\" has been attributed to dj patil and jeff hammerbacher in 2008.',\n",
       " '[32] though it was used by the national science board in their 2005 report \"long-lived digital data collections: enabling research and education in the 21st century\", it referred broadly to any key role in managing a digital data collection.',\n",
       " '[33]\\n\\nthere is still no consensus on the definition of data science, and it is considered by some to be a buzzword.',\n",
       " '[34] big data is a related marketing term.',\n",
       " '[35] data scientists are responsible for breaking down big data into usable information and creating software and algorithms that help companies and organizations determine optimal operations.',\n",
       " '[36]\\n\\ndata science and data analysis\\nsummary statistics and scatterplots showing the datasaurus dozen data set\\nexample for the usefulness of exploratory data analysis as demonstrated using the datasaurus dozen data set\\ndata science and data analysis are both important disciplines in the field of data management and analysis, but they differ in several key ways.',\n",
       " 'while both fields involve working with data, data science is more of an interdisciplinary field that involves the application of statistical, computational, and machine learning methods to extract insights from data and make predictions, while data analysis is more focused on the examination and interpretation of data to identify patterns and trends.',\n",
       " '[37][38]\\n\\ndata analysis typically involves working with smaller, structured datasets to answer specific questions or solve specific problems.',\n",
       " 'this can involve tasks such as data cleaning, data visualization, and exploratory data analysis to gain insights into the data and develop hypotheses about relationships between variables.',\n",
       " 'data analysts typically use statistical methods to test these hypotheses and draw conclusions from the data.',\n",
       " 'for example, a data analyst might analyze sales data to identify trends in customer behavior and make recommendations for marketing strategies.',\n",
       " '[37]\\n\\ndata science, on the other hand, is a more complex and iterative process that involves working with larger, more complex datasets that often require advanced computational and statistical methods to analyze.',\n",
       " 'data scientists often work with unstructured data such as text or images and use machine learning algorithms to build predictive models and make data-driven decisions.',\n",
       " 'in addition to statistical analysis, data science often involves tasks such as data preprocessing, feature engineering, and model selection.',\n",
       " 'for instance, a data scientist might develop a recommendation system for an e-commerce platform by analyzing user behavior patterns and using machine learning algorithms to predict user preferences.',\n",
       " '[38][39]\\n\\nwhile data analysis focuses on extracting insights from existing data, data science goes beyond that by incorporating the development and implementation of predictive models to make informed decisions.',\n",
       " 'data scientists are often responsible for collecting and cleaning data, selecting appropriate analytical techniques, and deploying models in real-world scenarios.',\n",
       " 'they work at the intersection of mathematics, computer science, and domain expertise to solve complex problems and uncover hidden patterns in large datasets.',\n",
       " '[38]\\n\\ndespite these differences, data science and data analysis are closely related fields and often require similar skill sets.',\n",
       " 'both fields require a solid foundation in statistics, programming, and data visualization, as well as the ability to communicate findings effectively to both technical and non-technical audiences.',\n",
       " 'both fields benefit from critical thinking and domain knowledge, as understanding the context and nuances of the data is essential for accurate analysis and modeling.',\n",
       " '[37][38]\\n\\nin summary, data analysis and data science are distinct yet interconnected disciplines within the broader field of data management and analysis.',\n",
       " 'data analysis focuses on extracting insights and drawing conclusions from structured data, while data science involves a more comprehensive approach that combines statistical analysis, computational methods, and machine learning to extract insights, build predictive models, and drive data-driven decision-making.',\n",
       " 'both fields use data to understand patterns, make informed decisions, and solve complex problems across various domains.',\n",
       " 'data science as an academic discipline\\nas illustrated in the previous sections, there is substantially some considerable differences between data science, data analysis and statistics.',\n",
       " 'consequently, just like statistics grew into an independent field from applied mathematics, similarly data science has emerged as a independent field and has gained traction over the recent years.',\n",
       " 'the unique demand for professional skills on computerized data analysis skills has exploded due to the increasing amounts of data emanating from a variety of independent sources.',\n",
       " 'whereas some of these highly sought skills can be provided by statisticians, the lack of high algorithmic writing skills makes them less preferred than trained data scientists who provide unique expertise on skills such as nosql, apache hadoop, cloud computing platforms and use of complex networks.',\n",
       " 'this paradigm shift has seen various institution craft academic programmes to prepare skilled labor for the market.',\n",
       " 'some of the institutions offering degree programmes in data science include stanford university, harvard university, university of oxford, eth zurich, meru university[1] among many others.',\n",
       " 'cloud computing for data science\\n\\na cloud-based architecture for enabling big data analytics.',\n",
       " 'data flows from various sources, such as personal computers, laptops, and smart phones, through cloud services for processing and analysis, finally leading to various big data applications.',\n",
       " 'cloud computing can offer access to large amounts of computational power and storage.',\n",
       " '[40] in big data, where volumes of information are continually generated and processed, these platforms can be used to handle complex and resource-intensive analytical tasks.',\n",
       " '[41]\\n\\nsome distributed computing frameworks are designed to handle big data workloads.',\n",
       " 'these frameworks can enable data scientists to process and analyze large datasets in parallel, which can reducing processing times.',\n",
       " '[42]\\n\\nethical consideration in data science\\ndata science involve collecting, processing, and analyzing data which often including personal and sensitive information.',\n",
       " 'ethical concerns include potential privacy violations, bias perpetuation, and negative societal impacts [43][44]\\n\\nmachine learning models can amplify existing biases present in training data, leading to discriminatory or unfair outcomes.',\n",
       " '[45][46]\\n\\nsee also\\npython (programming language)\\nr (programming language)\\ndata engineering\\nbig data\\nmachine learning\\nreferences\\n donoho, david (2017).',\n",
       " '\"50 years of data science\".',\n",
       " 'journal of computational and graphical statistics.',\n",
       " '26 (4): 745–766.',\n",
       " 'doi:10.1080/10618600.2017.1384734.',\n",
       " 's2cid 114558008.\\n dhar, v. (2013).',\n",
       " '\"data science and prediction\".',\n",
       " 'communications of the acm.',\n",
       " '56 (12): 64–73.',\n",
       " 'doi:10.1145/2500499.',\n",
       " 's2cid 6107147. archived from the original on 9 november 2014. retrieved 2 september 2015.\\n danyluk, a.; leidig, p. (2021).',\n",
       " 'computing competencies for undergraduate data science curricula (pdf).',\n",
       " 'acm data science task force final report (report).',\n",
       " 'mike, koby; hazzan, orit (20 january 2023).',\n",
       " '\"what is data science?\".',\n",
       " 'communications of the acm.',\n",
       " '66 (2): 12–13.',\n",
       " 'doi:10.1145/3575663.',\n",
       " 'issn 0001-0782.\\n hayashi, chikio (1 january 1998).',\n",
       " '\"what is data science ?',\n",
       " 'fundamental concepts and a heuristic example\".',\n",
       " 'in hayashi, chikio; yajima, keiji; bock, hans-hermann; ohsumi, noboru; tanaka, yutaka; baba, yasumasa (eds.).',\n",
       " 'data science, classification, and related methods.',\n",
       " 'studies in classification, data analysis, and knowledge organization.',\n",
       " 'springer japan.',\n",
       " 'pp.',\n",
       " '40–51.',\n",
       " 'doi:10.1007/978-4-431-65950-1_3.',\n",
       " 'isbn 9784431702085.\\n cao, longbing (29 june 2017).',\n",
       " '\"data science: a comprehensive overview\".',\n",
       " 'acm computing surveys.',\n",
       " '50 (3): 43:1–43:42. arxiv:2007.03606. doi:10.1145/3076253.',\n",
       " 'issn 0360-0300. s2cid 207595944.\\n tony hey; stewart tansley; kristin michele tolle (2009).',\n",
       " 'the fourth paradigm: data-intensive scientific discovery.',\n",
       " 'microsoft research.',\n",
       " 'isbn 978-0-9825442-0-4. archived from the original on 20 march 2017.\\n bell, g.; hey, t.; szalay, a.',\n",
       " '(2009).',\n",
       " '\"computer science: beyond the data deluge\".',\n",
       " 'science.',\n",
       " '323 (5919): 1297–1298.',\n",
       " 'doi:10.1126/science.1170411.',\n",
       " 'issn 0036-8075. pmid 19265007. s2cid 9743327.\\n davenport, thomas h.; patil, d. j.',\n",
       " '(october 2012).',\n",
       " '\"data scientist: the sexiest job of the 21st century\".',\n",
       " 'harvard business review.',\n",
       " '90 (10): 70–76, 128. pmid 23074866. retrieved 18 january 2016.\\n emmert-streib, frank; dehmer, matthias (2018).',\n",
       " '\"defining data science by a data-driven quantification of the community\".',\n",
       " 'machine learning and knowledge extraction.',\n",
       " '1: 235–251.',\n",
       " 'doi:10.3390/make1010015.',\n",
       " '\"1. introduction: what is data science?\".',\n",
       " 'doing data science [book].',\n",
       " 'o’reilly.',\n",
       " 'retrieved 3 april 2020.',\n",
       " '\"the three sexy skills of data geeks\".',\n",
       " 'm.e.driscoll: data utopian.',\n",
       " '27 may 2009. retrieved 3 april 2020.\\n yau, nathan (4 june 2009).',\n",
       " '\"rise of the data scientist\".',\n",
       " 'flowingdata.',\n",
       " 'retrieved 3 april 2020.',\n",
       " '\"basic example\".',\n",
       " 'benfry.com.',\n",
       " 'retrieved 3 april 2020.',\n",
       " '\"asa statement on the role of statistics in data science\".',\n",
       " 'amstatnews.',\n",
       " 'american statistical association.',\n",
       " '1 october 2015. archived from the original on 20 june 2019. retrieved 29 may 2019.',\n",
       " '\"nate silver: what i need from statisticians\".',\n",
       " 'statistics views.',\n",
       " '23 august 2013. retrieved 3 april 2020.',\n",
       " '\"what\\'s the difference between data science and statistics?\".',\n",
       " 'priceonomics.',\n",
       " '13 october 2015. retrieved 3 april 2020.\\n vasant dhar (1 december 2013).',\n",
       " '\"data science and prediction\".',\n",
       " 'communications of the acm.',\n",
       " '56 (12): 64–73.',\n",
       " 'doi:10.1145/2500499.',\n",
       " 's2cid 6107147.',\n",
       " '\"statistics is the least important part of data science « statistical modeling, causal inference, and social science\".',\n",
       " 'statmodeling.stat.columbia.edu.',\n",
       " 'retrieved 3 april 2020.\\n donoho, david (18 september 2015).',\n",
       " '\"50 years of data science\" (pdf).',\n",
       " 'retrieved 2 april 2020.\\n wu, c. f. jeff (1986).',\n",
       " '\"future directions of statistical research in china: a historical perspective\" (pdf).',\n",
       " 'application of statistics and management.',\n",
       " '1: 1–7.',\n",
       " 'retrieved 29 november 2020.\\n escoufier, yves; hayashi, chikio; fichet, bernard, eds.',\n",
       " '(1995).',\n",
       " 'data science and its applications.',\n",
       " 'tokyo: academic press/harcourt brace.',\n",
       " 'isbn 0-12-241770-4. oclc 489990740.\\n murtagh, fionn; devlin, keith (2018).',\n",
       " '\"the development of data science: implications for education, employment, research, and the data revolution for sustainable development\".',\n",
       " 'big data and cognitive computing.',\n",
       " '2 (2): 14. doi:10.3390/bdcc2020014.',\n",
       " 'wu, c. f. jeff.',\n",
       " '\"statistics=data science?\"',\n",
       " '(pdf).',\n",
       " 'retrieved 2 april 2020.']"
      ]
     },
     "execution_count": 5,
     "metadata": {},
     "output_type": "execute_result"
    }
   ],
   "source": [
    "sent_token[1:1000]"
   ]
  },
  {
   "cell_type": "code",
   "execution_count": 6,
   "id": "9f68d2fa",
   "metadata": {},
   "outputs": [
    {
     "data": {
      "text/plain": [
       "['data', 'science']"
      ]
     },
     "execution_count": 6,
     "metadata": {},
     "output_type": "execute_result"
    }
   ],
   "source": [
    "word_token[:2]"
   ]
  },
  {
   "cell_type": "code",
   "execution_count": 7,
   "id": "d40c6dbb",
   "metadata": {},
   "outputs": [
    {
     "data": {
      "text/plain": [
       "['data science is an interdisciplinary academic field[1] that uses statistics, scientific computing, scientific methods, processing, scientific visualization, algorithms and systems to extract or extrapolate knowledge and insights from potentially noisy, structured, or unstructured data.',\n",
       " '[2]\\n\\ndata science also integrates domain knowledge from the underlying application domain (e.g., natural sciences, information technology, and medicine).',\n",
       " '[3] data science is multifaceted and can be described as a science, a research paradigm, a research method, a discipline, a workflow, and a profession.']"
      ]
     },
     "execution_count": 7,
     "metadata": {},
     "output_type": "execute_result"
    }
   ],
   "source": [
    "sent_token[:3]"
   ]
  },
  {
   "cell_type": "markdown",
   "id": "8ef904f6",
   "metadata": {},
   "source": [
    "# Text Preprocessing"
   ]
  },
  {
   "cell_type": "code",
   "execution_count": 8,
   "id": "07bd9e45",
   "metadata": {},
   "outputs": [],
   "source": [
    "import string \n",
    "\n",
    "lemmar = nltk.stem.WordNetLemmatizer()\n",
    "\n",
    "def toklemma(tokens):\n",
    "    return [lemmar.lemmatize(tk) for tk in tokens]\n",
    "\n",
    "remove_puc_dict = dict((ord(puc),None) for puc in string.punctuation)\n",
    "\n",
    "def lemNormalize(text):\n",
    "    return toklemma(nltk.word_tokenize(text.lower().translate(remove_puc_dict)))"
   ]
  },
  {
   "cell_type": "markdown",
   "id": "19634cad",
   "metadata": {},
   "source": [
    "# Greet Function"
   ]
  },
  {
   "cell_type": "code",
   "execution_count": 9,
   "id": "48870d93",
   "metadata": {},
   "outputs": [],
   "source": [
    "greet_input = ('hey','helo','greetings','sup','whats up')\n",
    "greet_response = ['hey','helo','hi there','whats going one','I am glad! you are talking to me']"
   ]
  },
  {
   "cell_type": "code",
   "execution_count": 10,
   "id": "4686e3d8",
   "metadata": {},
   "outputs": [],
   "source": [
    "def greet(sentence):\n",
    "    for word in sentence.split():\n",
    "        if word.lower() in greet_input:\n",
    "            return random.choice(greet_response)"
   ]
  },
  {
   "cell_type": "code",
   "execution_count": 11,
   "id": "50b31652",
   "metadata": {},
   "outputs": [],
   "source": [
    "from sklearn.feature_extraction.text import TfidfVectorizer # helo my name is helo\n",
    "from sklearn.metrics.pairwise import cosine_similarity"
   ]
  },
  {
   "cell_type": "markdown",
   "id": "76836fdd",
   "metadata": {},
   "source": [
    "# Cecking similarity between user input and existed text"
   ]
  },
  {
   "cell_type": "code",
   "execution_count": 12,
   "id": "51b1b355",
   "metadata": {},
   "outputs": [],
   "source": [
    "def response(user_input):\n",
    "    robo1_res = \"\"\n",
    "    tfidfvec = TfidfVectorizer(tokenizer=lemNormalize, stop_words='english')\n",
    "    tfidf = tfidfvec.fit_transform(sent_token)\n",
    "    vals = cosine_similarity(tfidf[-1],tfidf)\n",
    "    idx = vals.argsort()[0][-2]\n",
    "    flat = vals.flatten()\n",
    "    flat.sort()\n",
    "    reg_tfidf = flat[-2]\n",
    "    \n",
    "    if reg_tfidf==0:\n",
    "        robo1_res = robo1_res+\"I am sorry I don't understand you\"\n",
    "        return robo1_res\n",
    "    \n",
    "    else:\n",
    "        robo1_res = robo1_res+sent_token[idx]\n",
    "    \n",
    "    return robo1_res"
   ]
  },
  {
   "cell_type": "markdown",
   "id": "08efdde5",
   "metadata": {},
   "source": [
    "# Conversation Start End Protocols"
   ]
  },
  {
   "cell_type": "code",
   "execution_count": 13,
   "id": "3b355f39",
   "metadata": {},
   "outputs": [
    {
     "name": "stdout",
     "output_type": "stream",
     "text": [
      "Bot: hey me . Let's have a conversation. If you want to exit just type Buy!\n",
      "Bot: You are Welcome\n"
     ]
    }
   ],
   "source": [
    "flag =True\n",
    "print(\"Bot: hey me . Let's have a conversation. If you want to exit just type Buy!\")\n",
    "\n",
    "while flag==True:\n",
    "    user_response = input()\n",
    "    user_response = user_response.lower()\n",
    "    \n",
    "    if user_response !='buy':\n",
    "        if user_response==\"thanks\" or user_response=='thank you':\n",
    "            flag = False\n",
    "            print(\"Bot: You are Welcome\")\n",
    "        else:\n",
    "            sent_token.append(user_response)\n",
    "            word_tokens =word_token+nltk.word_tokenize(user_response)\n",
    "            final_words = list(set(word_tokens))\n",
    "            \n",
    "            print(\"Bot:\",end=\"\")\n",
    "            print(response(user_response))\n",
    "            sent_token.remove(user_response)\n",
    "    else:\n",
    "        \n",
    "        flag=False\n",
    "        print('Bot: Ok Good Buy! Take Care')\n",
    "                "
   ]
  },
  {
   "cell_type": "code",
   "execution_count": 14,
   "id": "fd107eb8",
   "metadata": {},
   "outputs": [],
   "source": [
    "# Foundations\n",
    "# Modern usage\n",
    "# Etymology\n",
    "# Playing area\n",
    "# Women's cricket"
   ]
  },
  {
   "cell_type": "code",
   "execution_count": null,
   "id": "8d29c8ab",
   "metadata": {},
   "outputs": [],
   "source": []
  },
  {
   "cell_type": "code",
   "execution_count": null,
   "id": "3a16d74d",
   "metadata": {},
   "outputs": [],
   "source": []
  }
 ],
 "metadata": {
  "kernelspec": {
   "display_name": "streamlit_env",
   "language": "python",
   "name": "python3"
  },
  "language_info": {
   "codemirror_mode": {
    "name": "ipython",
    "version": 3
   },
   "file_extension": ".py",
   "mimetype": "text/x-python",
   "name": "python",
   "nbconvert_exporter": "python",
   "pygments_lexer": "ipython3",
   "version": "3.13.0"
  }
 },
 "nbformat": 4,
 "nbformat_minor": 5
}
